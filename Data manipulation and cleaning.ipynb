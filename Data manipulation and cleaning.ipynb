{
 "cells": [
  {
   "cell_type": "code",
   "execution_count": 1,
   "id": "b955345d",
   "metadata": {},
   "outputs": [],
   "source": [
    "import pandas as pd\n",
    "import numpy as np\n",
    "import seaborn as sns\n",
    "import matplotlib.pyplot as plt"
   ]
  },
  {
   "cell_type": "code",
   "execution_count": 3,
   "id": "5b01ba0f",
   "metadata": {},
   "outputs": [
    {
     "data": {
      "text/html": [
       "<div>\n",
       "<style scoped>\n",
       "    .dataframe tbody tr th:only-of-type {\n",
       "        vertical-align: middle;\n",
       "    }\n",
       "\n",
       "    .dataframe tbody tr th {\n",
       "        vertical-align: top;\n",
       "    }\n",
       "\n",
       "    .dataframe thead th {\n",
       "        text-align: right;\n",
       "    }\n",
       "</style>\n",
       "<table border=\"1\" class=\"dataframe\">\n",
       "  <thead>\n",
       "    <tr style=\"text-align: right;\">\n",
       "      <th></th>\n",
       "      <th>EmployeeID</th>\n",
       "      <th>Name</th>\n",
       "      <th>Department</th>\n",
       "      <th>Salary</th>\n",
       "      <th>JoiningDate</th>\n",
       "      <th>Status</th>\n",
       "    </tr>\n",
       "  </thead>\n",
       "  <tbody>\n",
       "    <tr>\n",
       "      <th>0</th>\n",
       "      <td>7970</td>\n",
       "      <td>NaN</td>\n",
       "      <td>Operations</td>\n",
       "      <td>44168.0</td>\n",
       "      <td>2023-04-16</td>\n",
       "      <td>Terminated</td>\n",
       "    </tr>\n",
       "    <tr>\n",
       "      <th>1</th>\n",
       "      <td>1752</td>\n",
       "      <td>Shannon Franco</td>\n",
       "      <td>HR</td>\n",
       "      <td>80140.0</td>\n",
       "      <td>2016-08-22</td>\n",
       "      <td>Terminated</td>\n",
       "    </tr>\n",
       "    <tr>\n",
       "      <th>2</th>\n",
       "      <td>8478</td>\n",
       "      <td>NaN</td>\n",
       "      <td>HR</td>\n",
       "      <td>144316.0</td>\n",
       "      <td>2023-11-04</td>\n",
       "      <td>Terminated</td>\n",
       "    </tr>\n",
       "    <tr>\n",
       "      <th>3</th>\n",
       "      <td>5157</td>\n",
       "      <td>Barbara Alvarez</td>\n",
       "      <td>Operations</td>\n",
       "      <td>35075.0</td>\n",
       "      <td>2023-04-22</td>\n",
       "      <td>NaN</td>\n",
       "    </tr>\n",
       "    <tr>\n",
       "      <th>4</th>\n",
       "      <td>1816</td>\n",
       "      <td>Adam Cobb</td>\n",
       "      <td>Sales</td>\n",
       "      <td>142537.0</td>\n",
       "      <td>2016-05-12</td>\n",
       "      <td>Active</td>\n",
       "    </tr>\n",
       "  </tbody>\n",
       "</table>\n",
       "</div>"
      ],
      "text/plain": [
       "   EmployeeID             Name  Department    Salary JoiningDate      Status\n",
       "0        7970              NaN  Operations   44168.0  2023-04-16  Terminated\n",
       "1        1752   Shannon Franco          HR   80140.0  2016-08-22  Terminated\n",
       "2        8478              NaN          HR  144316.0  2023-11-04  Terminated\n",
       "3        5157  Barbara Alvarez  Operations   35075.0  2023-04-22         NaN\n",
       "4        1816        Adam Cobb       Sales  142537.0  2016-05-12      Active"
      ]
     },
     "execution_count": 3,
     "metadata": {},
     "output_type": "execute_result"
    }
   ],
   "source": [
    "df=pd.read_csv('employee_data.csv')\n",
    "df.head()"
   ]
  },
  {
   "cell_type": "code",
   "execution_count": 6,
   "id": "8bf6347b",
   "metadata": {},
   "outputs": [
    {
     "data": {
      "text/plain": [
       "<bound method DataFrame.info of      EmployeeID               Name   Department    Salary JoiningDate  \\\n",
       "0          7970                NaN   Operations   44168.0  2023-04-16   \n",
       "1          1752     Shannon Franco           HR   80140.0  2016-08-22   \n",
       "2          8478                NaN           HR  144316.0  2023-11-04   \n",
       "3          5157    Barbara Alvarez   Operations   35075.0  2023-04-22   \n",
       "4          1816          Adam Cobb        Sales  142537.0  2016-05-12   \n",
       "..          ...                ...          ...       ...         ...   \n",
       "495        2862                NaN   Operations   83271.0  2019-03-19   \n",
       "496        3910    Douglas English  Engineering   94038.0  2022-09-23   \n",
       "497        1009                NaN        Sales  102768.0  2023-03-24   \n",
       "498        3062  Christopher Perry          NaN  129374.0  2023-12-01   \n",
       "499        3252     Amanda Goodwin   Operations   61499.0  2020-07-18   \n",
       "\n",
       "         Status  \n",
       "0    Terminated  \n",
       "1    Terminated  \n",
       "2    Terminated  \n",
       "3           NaN  \n",
       "4        Active  \n",
       "..          ...  \n",
       "495      Active  \n",
       "496    Resigned  \n",
       "497      Active  \n",
       "498  Terminated  \n",
       "499         NaN  \n",
       "\n",
       "[500 rows x 6 columns]>"
      ]
     },
     "execution_count": 6,
     "metadata": {},
     "output_type": "execute_result"
    }
   ],
   "source": [
    "df.info"
   ]
  },
  {
   "cell_type": "code",
   "execution_count": 7,
   "id": "1dc5534b",
   "metadata": {},
   "outputs": [
    {
     "data": {
      "text/plain": [
       "EmployeeID       int64\n",
       "Name            object\n",
       "Department      object\n",
       "Salary         float64\n",
       "JoiningDate     object\n",
       "Status          object\n",
       "dtype: object"
      ]
     },
     "execution_count": 7,
     "metadata": {},
     "output_type": "execute_result"
    }
   ],
   "source": [
    "df.dtypes"
   ]
  },
  {
   "cell_type": "code",
   "execution_count": 4,
   "id": "5e48ed65",
   "metadata": {},
   "outputs": [
    {
     "data": {
      "text/plain": [
       "EmployeeID      0\n",
       "Name           50\n",
       "Department     50\n",
       "Salary         50\n",
       "JoiningDate    50\n",
       "Status         50\n",
       "dtype: int64"
      ]
     },
     "execution_count": 4,
     "metadata": {},
     "output_type": "execute_result"
    }
   ],
   "source": [
    "df.isna().sum()"
   ]
  },
  {
   "cell_type": "code",
   "execution_count": 13,
   "id": "3a9a8893",
   "metadata": {},
   "outputs": [
    {
     "data": {
      "text/plain": [
       "(   EmployeeID             Name  Department    Salary JoiningDate      Status\n",
       " 0        7970              NaN  Operations   44168.0  2023-04-16  Terminated\n",
       " 1        1752   Shannon Franco          HR   80140.0  2016-08-22  Terminated\n",
       " 2        8478              NaN          HR  144316.0  2023-11-04  Terminated\n",
       " 3        5157  Barbara Alvarez  Operations   35075.0  2023-04-22         NaN,\n",
       " (500, 6))"
      ]
     },
     "execution_count": 13,
     "metadata": {},
     "output_type": "execute_result"
    }
   ],
   "source": [
    "df.head(4)"
   ]
  },
  {
   "cell_type": "code",
   "execution_count": 14,
   "id": "0cb7ebf7",
   "metadata": {},
   "outputs": [
    {
     "data": {
      "text/plain": [
       "(500, 6)"
      ]
     },
     "execution_count": 14,
     "metadata": {},
     "output_type": "execute_result"
    }
   ],
   "source": [
    "df.shape"
   ]
  },
  {
   "cell_type": "code",
   "execution_count": 18,
   "id": "266e6142",
   "metadata": {},
   "outputs": [
    {
     "data": {
      "text/plain": [
       "92814.08666666667"
      ]
     },
     "execution_count": 18,
     "metadata": {},
     "output_type": "execute_result"
    }
   ],
   "source": [
    "df.Salary.mean()"
   ]
  },
  {
   "cell_type": "markdown",
   "id": "257c99d8",
   "metadata": {},
   "source": [
    "# Filling the na values"
   ]
  },
  {
   "cell_type": "code",
   "execution_count": 21,
   "id": "981cbc81",
   "metadata": {},
   "outputs": [],
   "source": [
    "df['Salary']=df.Salary.fillna(df.Salary.mean())\n"
   ]
  },
  {
   "cell_type": "code",
   "execution_count": 26,
   "id": "312bce1a",
   "metadata": {},
   "outputs": [],
   "source": [
    "df.Department.mode()[0]\n",
    "df['Department']=df.Department.fillna(df.Department.mode()[0])"
   ]
  },
  {
   "cell_type": "code",
   "execution_count": 32,
   "id": "e5d027f3",
   "metadata": {},
   "outputs": [],
   "source": [
    "df.JoiningDate.mode()[0]\n",
    "df['JoiningDate']=df.JoiningDate.fillna(df.JoiningDate.mode()[0])"
   ]
  },
  {
   "cell_type": "code",
   "execution_count": 36,
   "id": "8b5f3fb1",
   "metadata": {},
   "outputs": [],
   "source": [
    "df.Status.mode()[0]\n",
    "df['Status']=df.Status.fillna(df.Status.mode()[0])\n"
   ]
  },
  {
   "cell_type": "code",
   "execution_count": 40,
   "id": "a52e4a56",
   "metadata": {},
   "outputs": [
    {
     "data": {
      "text/plain": [
       "'Elizabeth Johnson'"
      ]
     },
     "execution_count": 40,
     "metadata": {},
     "output_type": "execute_result"
    }
   ],
   "source": [
    "df.Name.mode()[0]"
   ]
  },
  {
   "cell_type": "code",
   "execution_count": 41,
   "id": "b3ebb365",
   "metadata": {},
   "outputs": [],
   "source": [
    "df.Name.mode()[0]\n",
    "df['Name']=df.Name.fillna(df.Name.mode()[0])\n",
    "# filling the name columns with mode value to avoid data wastage"
   ]
  },
  {
   "cell_type": "code",
   "execution_count": 38,
   "id": "dcba82b1",
   "metadata": {},
   "outputs": [
    {
     "data": {
      "text/html": [
       "<div>\n",
       "<style scoped>\n",
       "    .dataframe tbody tr th:only-of-type {\n",
       "        vertical-align: middle;\n",
       "    }\n",
       "\n",
       "    .dataframe tbody tr th {\n",
       "        vertical-align: top;\n",
       "    }\n",
       "\n",
       "    .dataframe thead th {\n",
       "        text-align: right;\n",
       "    }\n",
       "</style>\n",
       "<table border=\"1\" class=\"dataframe\">\n",
       "  <thead>\n",
       "    <tr style=\"text-align: right;\">\n",
       "      <th></th>\n",
       "      <th>EmployeeID</th>\n",
       "      <th>Name</th>\n",
       "      <th>Department</th>\n",
       "      <th>Salary</th>\n",
       "      <th>JoiningDate</th>\n",
       "      <th>Status</th>\n",
       "    </tr>\n",
       "  </thead>\n",
       "  <tbody>\n",
       "    <tr>\n",
       "      <th>0</th>\n",
       "      <td>7970</td>\n",
       "      <td>NaN</td>\n",
       "      <td>Operations</td>\n",
       "      <td>44168.0</td>\n",
       "      <td>2023-04-16</td>\n",
       "      <td>Terminated</td>\n",
       "    </tr>\n",
       "    <tr>\n",
       "      <th>1</th>\n",
       "      <td>1752</td>\n",
       "      <td>Shannon Franco</td>\n",
       "      <td>HR</td>\n",
       "      <td>80140.0</td>\n",
       "      <td>2016-08-22</td>\n",
       "      <td>Terminated</td>\n",
       "    </tr>\n",
       "    <tr>\n",
       "      <th>2</th>\n",
       "      <td>8478</td>\n",
       "      <td>NaN</td>\n",
       "      <td>HR</td>\n",
       "      <td>144316.0</td>\n",
       "      <td>2023-11-04</td>\n",
       "      <td>Terminated</td>\n",
       "    </tr>\n",
       "    <tr>\n",
       "      <th>3</th>\n",
       "      <td>5157</td>\n",
       "      <td>Barbara Alvarez</td>\n",
       "      <td>Operations</td>\n",
       "      <td>35075.0</td>\n",
       "      <td>2023-04-22</td>\n",
       "      <td>Terminated</td>\n",
       "    </tr>\n",
       "    <tr>\n",
       "      <th>4</th>\n",
       "      <td>1816</td>\n",
       "      <td>Adam Cobb</td>\n",
       "      <td>Sales</td>\n",
       "      <td>142537.0</td>\n",
       "      <td>2016-05-12</td>\n",
       "      <td>Active</td>\n",
       "    </tr>\n",
       "  </tbody>\n",
       "</table>\n",
       "</div>"
      ],
      "text/plain": [
       "   EmployeeID             Name  Department    Salary JoiningDate      Status\n",
       "0        7970              NaN  Operations   44168.0  2023-04-16  Terminated\n",
       "1        1752   Shannon Franco          HR   80140.0  2016-08-22  Terminated\n",
       "2        8478              NaN          HR  144316.0  2023-11-04  Terminated\n",
       "3        5157  Barbara Alvarez  Operations   35075.0  2023-04-22  Terminated\n",
       "4        1816        Adam Cobb       Sales  142537.0  2016-05-12      Active"
      ]
     },
     "execution_count": 38,
     "metadata": {},
     "output_type": "execute_result"
    }
   ],
   "source": [
    "df.head()"
   ]
  },
  {
   "cell_type": "code",
   "execution_count": 39,
   "id": "aa3e732e",
   "metadata": {},
   "outputs": [
    {
     "data": {
      "text/plain": [
       "EmployeeID      0\n",
       "Name           50\n",
       "Department      0\n",
       "Salary          0\n",
       "JoiningDate     0\n",
       "Status          0\n",
       "dtype: int64"
      ]
     },
     "execution_count": 39,
     "metadata": {},
     "output_type": "execute_result"
    }
   ],
   "source": [
    "df.isna().sum()"
   ]
  },
  {
   "cell_type": "markdown",
   "id": "acd5a7fd",
   "metadata": {},
   "source": [
    "# finding duplicate values in dataframe"
   ]
  },
  {
   "cell_type": "code",
   "execution_count": 45,
   "id": "fd6cc22e",
   "metadata": {},
   "outputs": [
    {
     "data": {
      "text/plain": [
       "0"
      ]
     },
     "execution_count": 45,
     "metadata": {},
     "output_type": "execute_result"
    }
   ],
   "source": [
    "df.duplicated().sum()"
   ]
  },
  {
   "cell_type": "code",
   "execution_count": 47,
   "id": "070a8807",
   "metadata": {},
   "outputs": [
    {
     "data": {
      "text/plain": [
       "array(['Terminated', 'Active', 'Resigned', 'On Leave'], dtype=object)"
      ]
     },
     "execution_count": 47,
     "metadata": {},
     "output_type": "execute_result"
    }
   ],
   "source": [
    "df['Status'].unique()"
   ]
  },
  {
   "cell_type": "markdown",
   "id": "12f8521c",
   "metadata": {},
   "source": [
    "# Filtering out the employees with resigned status in df_resigned dataframe"
   ]
  },
  {
   "cell_type": "code",
   "execution_count": 51,
   "id": "525653e0",
   "metadata": {},
   "outputs": [
    {
     "data": {
      "text/html": [
       "<div>\n",
       "<style scoped>\n",
       "    .dataframe tbody tr th:only-of-type {\n",
       "        vertical-align: middle;\n",
       "    }\n",
       "\n",
       "    .dataframe tbody tr th {\n",
       "        vertical-align: top;\n",
       "    }\n",
       "\n",
       "    .dataframe thead th {\n",
       "        text-align: right;\n",
       "    }\n",
       "</style>\n",
       "<table border=\"1\" class=\"dataframe\">\n",
       "  <thead>\n",
       "    <tr style=\"text-align: right;\">\n",
       "      <th></th>\n",
       "      <th>EmployeeID</th>\n",
       "      <th>Name</th>\n",
       "      <th>Department</th>\n",
       "      <th>Salary</th>\n",
       "      <th>JoiningDate</th>\n",
       "      <th>Status</th>\n",
       "    </tr>\n",
       "  </thead>\n",
       "  <tbody>\n",
       "    <tr>\n",
       "      <th>5</th>\n",
       "      <td>7766</td>\n",
       "      <td>Tyrone Miller</td>\n",
       "      <td>Engineering</td>\n",
       "      <td>92814.086667</td>\n",
       "      <td>2023-08-21</td>\n",
       "      <td>Resigned</td>\n",
       "    </tr>\n",
       "    <tr>\n",
       "      <th>9</th>\n",
       "      <td>1255</td>\n",
       "      <td>Elizabeth Johnson</td>\n",
       "      <td>HR</td>\n",
       "      <td>90332.000000</td>\n",
       "      <td>2015-04-23</td>\n",
       "      <td>Resigned</td>\n",
       "    </tr>\n",
       "    <tr>\n",
       "      <th>10</th>\n",
       "      <td>4786</td>\n",
       "      <td>Loretta Espinoza</td>\n",
       "      <td>Operations</td>\n",
       "      <td>75830.000000</td>\n",
       "      <td>2014-12-24</td>\n",
       "      <td>Resigned</td>\n",
       "    </tr>\n",
       "    <tr>\n",
       "      <th>12</th>\n",
       "      <td>4245</td>\n",
       "      <td>Jamie Aguilar</td>\n",
       "      <td>Finance</td>\n",
       "      <td>137549.000000</td>\n",
       "      <td>2015-06-26</td>\n",
       "      <td>Resigned</td>\n",
       "    </tr>\n",
       "    <tr>\n",
       "      <th>14</th>\n",
       "      <td>7189</td>\n",
       "      <td>Andrew Zimmerman</td>\n",
       "      <td>Finance</td>\n",
       "      <td>144206.000000</td>\n",
       "      <td>2015-09-17</td>\n",
       "      <td>Resigned</td>\n",
       "    </tr>\n",
       "  </tbody>\n",
       "</table>\n",
       "</div>"
      ],
      "text/plain": [
       "    EmployeeID               Name   Department         Salary JoiningDate  \\\n",
       "5         7766      Tyrone Miller  Engineering   92814.086667  2023-08-21   \n",
       "9         1255  Elizabeth Johnson           HR   90332.000000  2015-04-23   \n",
       "10        4786   Loretta Espinoza   Operations   75830.000000  2014-12-24   \n",
       "12        4245      Jamie Aguilar      Finance  137549.000000  2015-06-26   \n",
       "14        7189   Andrew Zimmerman      Finance  144206.000000  2015-09-17   \n",
       "\n",
       "      Status  \n",
       "5   Resigned  \n",
       "9   Resigned  \n",
       "10  Resigned  \n",
       "12  Resigned  \n",
       "14  Resigned  "
      ]
     },
     "execution_count": 51,
     "metadata": {},
     "output_type": "execute_result"
    }
   ],
   "source": [
    "df_resigned=df[df['Status']=='Resigned']\n",
    "df_resigned.head()"
   ]
  },
  {
   "cell_type": "markdown",
   "id": "2335d8ed",
   "metadata": {},
   "source": [
    "# Analysis"
   ]
  },
  {
   "cell_type": "code",
   "execution_count": 57,
   "id": "22a55f06",
   "metadata": {
    "scrolled": true
   },
   "outputs": [
    {
     "data": {
      "text/plain": [
       "Department\n",
       "Engineering    97696.495967\n",
       "Finance        92700.282857\n",
       "HR             92043.128148\n",
       "Marketing      86130.513000\n",
       "Operations     95040.411917\n",
       "Sales          91922.676816\n",
       "Name: Salary, dtype: float64"
      ]
     },
     "execution_count": 57,
     "metadata": {},
     "output_type": "execute_result"
    }
   ],
   "source": [
    "df.groupby('Department')['Salary'].agg('mean') \n",
    "# finding the average salary across each Department "
   ]
  },
  {
   "cell_type": "markdown",
   "id": "df7840b3",
   "metadata": {},
   "source": [
    "# Result"
   ]
  },
  {
   "cell_type": "code",
   "execution_count": 69,
   "id": "b163e384",
   "metadata": {},
   "outputs": [
    {
     "data": {
      "text/html": [
       "<div>\n",
       "<style scoped>\n",
       "    .dataframe tbody tr th:only-of-type {\n",
       "        vertical-align: middle;\n",
       "    }\n",
       "\n",
       "    .dataframe tbody tr th {\n",
       "        vertical-align: top;\n",
       "    }\n",
       "\n",
       "    .dataframe thead th {\n",
       "        text-align: right;\n",
       "    }\n",
       "</style>\n",
       "<table border=\"1\" class=\"dataframe\">\n",
       "  <thead>\n",
       "    <tr style=\"text-align: right;\">\n",
       "      <th></th>\n",
       "      <th>EmployeeID</th>\n",
       "      <th>Name</th>\n",
       "      <th>Department</th>\n",
       "      <th>Salary</th>\n",
       "      <th>JoiningDate</th>\n",
       "      <th>Status</th>\n",
       "    </tr>\n",
       "  </thead>\n",
       "  <tbody>\n",
       "    <tr>\n",
       "      <th>0</th>\n",
       "      <td>7970</td>\n",
       "      <td>Elizabeth Johnson</td>\n",
       "      <td>Operations</td>\n",
       "      <td>44168.0</td>\n",
       "      <td>2023-04-16</td>\n",
       "      <td>Terminated</td>\n",
       "    </tr>\n",
       "    <tr>\n",
       "      <th>1</th>\n",
       "      <td>1752</td>\n",
       "      <td>Shannon Franco</td>\n",
       "      <td>HR</td>\n",
       "      <td>80140.0</td>\n",
       "      <td>2016-08-22</td>\n",
       "      <td>Terminated</td>\n",
       "    </tr>\n",
       "    <tr>\n",
       "      <th>2</th>\n",
       "      <td>8478</td>\n",
       "      <td>Elizabeth Johnson</td>\n",
       "      <td>HR</td>\n",
       "      <td>144316.0</td>\n",
       "      <td>2023-11-04</td>\n",
       "      <td>Terminated</td>\n",
       "    </tr>\n",
       "    <tr>\n",
       "      <th>3</th>\n",
       "      <td>5157</td>\n",
       "      <td>Barbara Alvarez</td>\n",
       "      <td>Operations</td>\n",
       "      <td>35075.0</td>\n",
       "      <td>2023-04-22</td>\n",
       "      <td>Terminated</td>\n",
       "    </tr>\n",
       "    <tr>\n",
       "      <th>4</th>\n",
       "      <td>1816</td>\n",
       "      <td>Adam Cobb</td>\n",
       "      <td>Sales</td>\n",
       "      <td>142537.0</td>\n",
       "      <td>2016-05-12</td>\n",
       "      <td>Active</td>\n",
       "    </tr>\n",
       "  </tbody>\n",
       "</table>\n",
       "</div>"
      ],
      "text/plain": [
       "   EmployeeID               Name  Department    Salary JoiningDate      Status\n",
       "0        7970  Elizabeth Johnson  Operations   44168.0  2023-04-16  Terminated\n",
       "1        1752     Shannon Franco          HR   80140.0  2016-08-22  Terminated\n",
       "2        8478  Elizabeth Johnson          HR  144316.0  2023-11-04  Terminated\n",
       "3        5157    Barbara Alvarez  Operations   35075.0  2023-04-22  Terminated\n",
       "4        1816          Adam Cobb       Sales  142537.0  2016-05-12      Active"
      ]
     },
     "execution_count": 69,
     "metadata": {},
     "output_type": "execute_result"
    }
   ],
   "source": [
    "df.head()"
   ]
  },
  {
   "cell_type": "code",
   "execution_count": 71,
   "id": "2d4c74b5",
   "metadata": {},
   "outputs": [
    {
     "data": {
      "text/plain": [
       "EmployeeID     0\n",
       "Name           0\n",
       "Department     0\n",
       "Salary         0\n",
       "JoiningDate    0\n",
       "Status         0\n",
       "dtype: int64"
      ]
     },
     "execution_count": 71,
     "metadata": {},
     "output_type": "execute_result"
    }
   ],
   "source": [
    "df.isna().sum()"
   ]
  },
  {
   "cell_type": "code",
   "execution_count": 72,
   "id": "84ac6dee",
   "metadata": {},
   "outputs": [
    {
     "data": {
      "text/plain": [
       "0"
      ]
     },
     "execution_count": 72,
     "metadata": {},
     "output_type": "execute_result"
    }
   ],
   "source": [
    "df.duplicated().sum()"
   ]
  },
  {
   "cell_type": "code",
   "execution_count": 73,
   "id": "fda37d51",
   "metadata": {},
   "outputs": [
    {
     "data": {
      "text/html": [
       "<div>\n",
       "<style scoped>\n",
       "    .dataframe tbody tr th:only-of-type {\n",
       "        vertical-align: middle;\n",
       "    }\n",
       "\n",
       "    .dataframe tbody tr th {\n",
       "        vertical-align: top;\n",
       "    }\n",
       "\n",
       "    .dataframe thead th {\n",
       "        text-align: right;\n",
       "    }\n",
       "</style>\n",
       "<table border=\"1\" class=\"dataframe\">\n",
       "  <thead>\n",
       "    <tr style=\"text-align: right;\">\n",
       "      <th></th>\n",
       "      <th>EmployeeID</th>\n",
       "      <th>Name</th>\n",
       "      <th>Department</th>\n",
       "      <th>Salary</th>\n",
       "      <th>JoiningDate</th>\n",
       "      <th>Status</th>\n",
       "    </tr>\n",
       "  </thead>\n",
       "  <tbody>\n",
       "    <tr>\n",
       "      <th>5</th>\n",
       "      <td>7766</td>\n",
       "      <td>Tyrone Miller</td>\n",
       "      <td>Engineering</td>\n",
       "      <td>92814.086667</td>\n",
       "      <td>2023-08-21</td>\n",
       "      <td>Resigned</td>\n",
       "    </tr>\n",
       "    <tr>\n",
       "      <th>9</th>\n",
       "      <td>1255</td>\n",
       "      <td>Elizabeth Johnson</td>\n",
       "      <td>HR</td>\n",
       "      <td>90332.000000</td>\n",
       "      <td>2015-04-23</td>\n",
       "      <td>Resigned</td>\n",
       "    </tr>\n",
       "    <tr>\n",
       "      <th>10</th>\n",
       "      <td>4786</td>\n",
       "      <td>Loretta Espinoza</td>\n",
       "      <td>Operations</td>\n",
       "      <td>75830.000000</td>\n",
       "      <td>2014-12-24</td>\n",
       "      <td>Resigned</td>\n",
       "    </tr>\n",
       "    <tr>\n",
       "      <th>12</th>\n",
       "      <td>4245</td>\n",
       "      <td>Jamie Aguilar</td>\n",
       "      <td>Finance</td>\n",
       "      <td>137549.000000</td>\n",
       "      <td>2015-06-26</td>\n",
       "      <td>Resigned</td>\n",
       "    </tr>\n",
       "    <tr>\n",
       "      <th>14</th>\n",
       "      <td>7189</td>\n",
       "      <td>Andrew Zimmerman</td>\n",
       "      <td>Finance</td>\n",
       "      <td>144206.000000</td>\n",
       "      <td>2015-09-17</td>\n",
       "      <td>Resigned</td>\n",
       "    </tr>\n",
       "  </tbody>\n",
       "</table>\n",
       "</div>"
      ],
      "text/plain": [
       "    EmployeeID               Name   Department         Salary JoiningDate  \\\n",
       "5         7766      Tyrone Miller  Engineering   92814.086667  2023-08-21   \n",
       "9         1255  Elizabeth Johnson           HR   90332.000000  2015-04-23   \n",
       "10        4786   Loretta Espinoza   Operations   75830.000000  2014-12-24   \n",
       "12        4245      Jamie Aguilar      Finance  137549.000000  2015-06-26   \n",
       "14        7189   Andrew Zimmerman      Finance  144206.000000  2015-09-17   \n",
       "\n",
       "      Status  \n",
       "5   Resigned  \n",
       "9   Resigned  \n",
       "10  Resigned  \n",
       "12  Resigned  \n",
       "14  Resigned  "
      ]
     },
     "execution_count": 73,
     "metadata": {},
     "output_type": "execute_result"
    }
   ],
   "source": [
    "df_resigned.head()"
   ]
  },
  {
   "cell_type": "code",
   "execution_count": null,
   "id": "d50a98db",
   "metadata": {},
   "outputs": [],
   "source": []
  }
 ],
 "metadata": {
  "kernelspec": {
   "display_name": "Python 3 (ipykernel)",
   "language": "python",
   "name": "python3"
  },
  "language_info": {
   "codemirror_mode": {
    "name": "ipython",
    "version": 3
   },
   "file_extension": ".py",
   "mimetype": "text/x-python",
   "name": "python",
   "nbconvert_exporter": "python",
   "pygments_lexer": "ipython3",
   "version": "3.11.3"
  }
 },
 "nbformat": 4,
 "nbformat_minor": 5
}
